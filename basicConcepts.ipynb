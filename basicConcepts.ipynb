{
 "cells": [
  {
   "cell_type": "heading",
   "metadata": {},
   "level": 6,
   "source": [
    "Basic Concepts about Python"
   ]
  },
  {
   "cell_type": "markdown",
   "metadata": {},
   "source": [
    "Trivia: \n",
    "1. Python is processed at runtime by the interpreter. There is no need to compile your program before executing it.\n",
    "2. Code written for Python 3.x is guaranteed to work in all future versions. \n",
    "3. Python is an interpreted language- Understand this concept\n",
    "4. Python can be run using shell and the IDE\n",
    "5. Python code often contains references to the comedy group Monty Python. This is why the words, \"spam\" and \"eggs\" are often used as placeholder variables in Python where \"foo\" and \"bar\" would be used in other programming languages.\n",
    "6. Computers can't store floats perfectly accurately, in the same way that we can't write down the complete decimal expansion of 1/3 (0.3333333333333333...). Keep this in mind, because it often leads to infuriating bugs!\n",
    "7. Python silently converts the integer to a float.\n"
   ]
  },
  {
   "cell_type": "markdown",
   "metadata": {},
   "source": [
    "Floor division and modulo to do quotient and reminder"
   ]
  },
  {
   "cell_type": "code",
   "execution_count": 6,
   "metadata": {},
   "outputs": [
    {
     "name": "stdout",
     "output_type": "stream",
     "text": [
      "3 , 0.25\n"
     ]
    }
   ],
   "source": [
    "val1 = 20 // 6\n",
    "val2 = 1.25 % 0.5\n",
    "print(val1,',',val2)"
   ]
  },
  {
   "cell_type": "markdown",
   "metadata": {},
   "source": [
    "Backslashes can also be used to escape tabs, arbitrary Unicode characters, and various other things \n",
    "that can't be reliably printed. These characters are known as escape characters."
   ]
  },
  {
   "cell_type": "code",
   "execution_count": 7,
   "metadata": {},
   "outputs": [
    {
     "name": "stdout",
     "output_type": "stream",
     "text": [
      "Brian's mother: He's not the Messiah. He's a very naughty boy!\n"
     ]
    }
   ],
   "source": [
    "print('Brian\\'s mother: He\\'s not the Messiah. He\\'s a very naughty boy!')"
   ]
  },
  {
   "cell_type": "markdown",
   "metadata": {},
   "source": [
    "Python provides an easy way to avoid manually writing \"\\n\" to escape newlines in a string. Create a string with three sets of quotes, and newlines that are created by pressing Enter are automatically escaped for you. This was we can print a complex formatted string with wrapping in a single print statement and not use separate print statements for newlines"
   ]
  },
  {
   "cell_type": "code",
   "execution_count": 9,
   "metadata": {},
   "outputs": [
    {
     "name": "stdout",
     "output_type": "stream",
     "text": [
      "Customer: Good morning.Owner: Good morning, Sir. Welcome to the National Cheese Emporium.\n"
     ]
    }
   ],
   "source": [
    "print(\"\"\"Customer: Good morning.Owner: \n",
    "Good morning, Sir. Welcome to the National Cheese Emporium.\"\"\")"
   ]
  },
  {
   "cell_type": "markdown",
   "metadata": {},
   "source": [
    "Input statements: Providing input statements in shell is meaningless. Providing it in jupyternotebook is not possible. It is better suited for python programs"
   ]
  },
  {
   "cell_type": "markdown",
   "metadata": {},
   "source": [
    "Variables have no datatype: They can be converted to another form just like that. Read about what happens at a memory level"
   ]
  },
  {
   "cell_type": "markdown",
   "metadata": {},
   "source": [
    "Variables: Case sensitive and cant start with a number"
   ]
  },
  {
   "cell_type": "code",
   "execution_count": 11,
   "metadata": {},
   "outputs": [
    {
     "ename": "SyntaxError",
     "evalue": "invalid syntax (<ipython-input-11-832276f08c93>, line 1)",
     "traceback": [
      "\u001b[0;36m  File \u001b[0;32m\"<ipython-input-11-832276f08c93>\"\u001b[0;36m, line \u001b[0;32m1\u001b[0m\n\u001b[0;31m    123abc = 7\u001b[0m\n\u001b[0m         ^\u001b[0m\n\u001b[0;31mSyntaxError\u001b[0m\u001b[0;31m:\u001b[0m invalid syntax\n"
     ],
     "output_type": "error"
    }
   ],
   "source": [
    "123abc = 7"
   ]
  },
  {
   "cell_type": "code",
   "execution_count": 12,
   "metadata": {},
   "outputs": [
    {
     "ename": "SyntaxError",
     "evalue": "invalid syntax (<ipython-input-12-3b7144d6953f>, line 1)",
     "traceback": [
      "\u001b[0;36m  File \u001b[0;32m\"<ipython-input-12-3b7144d6953f>\"\u001b[0;36m, line \u001b[0;32m1\u001b[0m\n\u001b[0;31m    spaces are not allowed\u001b[0m\n\u001b[0m             ^\u001b[0m\n\u001b[0;31mSyntaxError\u001b[0m\u001b[0;31m:\u001b[0m invalid syntax\n"
     ],
     "output_type": "error"
    }
   ],
   "source": [
    " spaces are not allowed"
   ]
  },
  {
   "cell_type": "markdown",
   "metadata": {},
   "source": [
    "Del can be used to delete a variable"
   ]
  },
  {
   "cell_type": "code",
   "execution_count": null,
   "metadata": {},
   "outputs": [],
   "source": []
  }
 ],
 "metadata": {
  "kernelspec": {
   "display_name": "Python 2",
   "language": "python",
   "name": "python2"
  },
  "language_info": {
   "codemirror_mode": {
    "name": "ipython",
    "version": 2
   },
   "file_extension": ".py",
   "mimetype": "text/x-python",
   "name": "python",
   "nbconvert_exporter": "python",
   "pygments_lexer": "ipython2",
   "version": "2.7.6"
  }
 },
 "nbformat": 4,
 "nbformat_minor": 0
}
