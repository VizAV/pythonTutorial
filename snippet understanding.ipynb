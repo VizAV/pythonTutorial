{
 "cells": [
  {
   "cell_type": "markdown",
   "metadata": {
    "collapsed": true
   },
   "source": [
    "For loops are implemented using iterators in python "
   ]
  },
  {
   "cell_type": "code",
   "execution_count": 5,
   "metadata": {},
   "outputs": [
    {
     "name": "stdout",
     "output_type": "stream",
     "text": [
      "2\n5\n4\n3\n2\n5\n4\n3\n"
     ]
    }
   ],
   "source": [
    "iterable=[2,5,4,3]\n",
    "for element in iterable:\n",
    "    print(element)\n",
    "    # do something with element\n",
    "\n",
    "# create an iterator object from that iterable\n",
    "iter_obj = iter(iterable)\n",
    "\n",
    "# infinite loop\n",
    "while True:\n",
    "    try:\n",
    "        # get the next item\n",
    "        element = next(iter_obj)\n",
    "        print(element)\n",
    "    except StopIteration:\n",
    "        # if StopIteration is raised, break from loop\n",
    "        break"
   ]
  },
  {
   "cell_type": "markdown",
   "metadata": {},
   "source": [
    "Generators:\n"
   ]
  },
  {
   "cell_type": "code",
   "execution_count": 3,
   "metadata": {},
   "outputs": [
    {
     "name": "stdout",
     "output_type": "stream",
     "text": [
      "[0, 1, 2, 3, 4, 5, 6, 7, 8, 9, 10, 11]\n"
     ]
    }
   ],
   "source": [
    "def numbers(x):\n",
    "  for i in range(x):\n",
    "    if i % 2 == 0:\n",
    "      yield i\n",
    "      yield i+1\n",
    "\n",
    "print(list(numbers(11)))"
   ]
  },
  {
   "cell_type": "markdown",
   "metadata": {},
   "source": [
    "Decorators:\n",
    "Decorators provide a way to modify functions using other functions. \n",
    "This is ideal when you need to extend the functionality of functions that you don't want to modify.\n",
    "\n",
    "In this case we could as well print the decoration and then the function. But we it will print it right away and not when we want it"
   ]
  },
  {
   "cell_type": "code",
   "execution_count": 5,
   "metadata": {},
   "outputs": [],
   "source": [
    "def decor(func):\n",
    "  def wrap():\n",
    "    print(\"============\")\n",
    "    func()\n",
    "    print(\"============\")\n",
    "  return wrap\n",
    "\n",
    "def print_text():\n",
    "  print(\"Hello world!\")\n",
    "\n",
    "decorated = decor(print_text)\n",
    "# decorated()"
   ]
  },
  {
   "cell_type": "code",
   "execution_count": 7,
   "metadata": {},
   "outputs": [
    {
     "name": "stdout",
     "output_type": "stream",
     "text": [
      "============\nHello world!\n============\n"
     ]
    }
   ],
   "source": [
    "def wraps(func):\n",
    "    print(\"============\")\n",
    "    func()\n",
    "    print(\"============\")\n",
    "    \n",
    "wraps(print_text)"
   ]
  },
  {
   "cell_type": "markdown",
   "metadata": {},
   "source": [
    "We can also define the decor function somewhere else and just use an @ function\n"
   ]
  },
  {
   "cell_type": "code",
   "execution_count": 9,
   "metadata": {},
   "outputs": [
    {
     "name": "stdout",
     "output_type": "stream",
     "text": [
      "============\nHello world!\n============\n"
     ]
    }
   ],
   "source": [
    "@decor\n",
    "def print_text():\n",
    "  print(\"Hello world!\")\n",
    "\n",
    "print_text()"
   ]
  },
  {
   "cell_type": "markdown",
   "metadata": {},
   "source": [
    "set: \n",
    "unique numbers \n",
    "can do a lot of operations"
   ]
  },
  {
   "cell_type": "markdown",
   "metadata": {},
   "source": [
    "As we have seen in the previous lessons, Python supports the following data structures: lists, dictionaries, tuples, sets.\n",
    "\n",
    "When to use a dictionary:\n",
    "- When you need a logical association between a key:value pair.\n",
    "- When you need fast lookup for your data, based on a custom key.\n",
    "- When your data is being constantly modified. Remember, dictionaries are mutable.\n",
    "\n",
    "When to use the other types:\n",
    "- Use lists if you have a collection of data that does not need random access. Try to choose lists when you need a simple, iterable collection that is modified frequently.\n",
    "- Use a set if you need uniqueness for the elements. \n",
    "- Use tuples when your data cannot change. "
   ]
  },
  {
   "cell_type": "markdown",
   "metadata": {},
   "source": [
    "#Itertools"
   ]
  },
  {
   "cell_type": "markdown",
   "metadata": {},
   "source": [
    "The module itertools is a standard library that contains several functions that are useful in functional programming. \n",
    "https://realpython.com/python-itertools/\n",
    "A lot of combinatoric functions are also present"
   ]
  },
  {
   "cell_type": "code",
   "execution_count": 6,
   "metadata": {},
   "outputs": [
    {
     "name": "stdout",
     "output_type": "stream",
     "text": [
      "3\n4\n5\n6\n7\n8\n9\n10\n11\n"
     ]
    }
   ],
   "source": [
    "from itertools import count\n",
    "\n",
    "for i in count(3):\n",
    "  print(i)\n",
    "  if i >=11:\n",
    "    break"
   ]
  },
  {
   "cell_type": "code",
   "execution_count": null,
   "metadata": {},
   "outputs": [],
   "source": []
  }
 ],
 "metadata": {
  "kernelspec": {
   "display_name": "Python 2",
   "language": "python",
   "name": "python2"
  },
  "language_info": {
   "codemirror_mode": {
    "name": "ipython",
    "version": 2
   },
   "file_extension": ".py",
   "mimetype": "text/x-python",
   "name": "python",
   "nbconvert_exporter": "python",
   "pygments_lexer": "ipython2",
   "version": "2.7.6"
  }
 },
 "nbformat": 4,
 "nbformat_minor": 0
}
