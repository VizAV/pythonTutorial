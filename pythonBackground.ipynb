{
 "cells": [
  {
   "cell_type": "markdown",
   "metadata": {
    "collapsed": true
   },
   "source": [
    "Trivia: \n",
    "1. Python is processed at runtime by the interpreter. There is no need to compile your program before executing it.\n",
    "2. Code written for Python 3.x is guaranteed to work in all future versions. \n",
    "3. Python is an interpreted language- Understand this concept\n",
    "4. Python can be run using shell and the IDE\n",
    "5. Python code often contains references to the comedy group Monty Python. This is why the words, \"spam\" and \"eggs\" are often used as placeholder variables in Python where \"foo\" and \"bar\" would be used in other programming languages.\n",
    "6. Computers can't store floats perfectly accurately, in the same way that we can't write down the complete decimal expansion of 1/3 (0.3333333333333333...). Keep this in mind, because it often leads to infuriating bugs!\n",
    "7. Python silently converts the integer to a float.\n"
   ]
  },
  {
   "cell_type": "markdown",
   "metadata": {},
   "source": [
    "## Python interpreted or compiled"
   ]
  },
  {
   "cell_type": "markdown",
   "metadata": {},
   "source": [
    "Compile:  “compile” means to convert a program in a high-level language into a binary executable full of machine code (CPU instructions). When you compile a C program, this is what happens. The result is a file that your operating system can run for you.\n",
    "\n",
    "Interpreted: “interpreted”, executing a program means reading the source file a line at a time, and doing what it says. This is the way some shells operate.\n",
    "\n",
    "In Python, the source is compiled into a much simpler form called bytecode. These are instructions similar in spirit to CPU instructions, but instead of being executed by the CPU, they are executed by software called a virtual machine."
   ]
  },
  {
   "cell_type": "code",
   "execution_count": 1,
   "metadata": {},
   "outputs": [
    {
     "name": "stdout",
     "output_type": "stream",
     "text": [
      "  3           0 SETUP_LOOP              28 (to 30)\n              2 LOAD_GLOBAL              0 (range)\n              4 LOAD_FAST                0 (x)\n              6 CALL_FUNCTION            1\n              8 GET_ITER\n        >>   10 FOR_ITER                16 (to 28)\n             12 STORE_FAST               1 (i)\n\n  4          14 LOAD_GLOBAL              1 (print)\n             16 LOAD_CONST               1 (2)\n             18 LOAD_FAST                1 (i)\n             20 BINARY_MULTIPLY\n             22 CALL_FUNCTION            1\n             24 POP_TOP\n             26 JUMP_ABSOLUTE           10\n        >>   28 POP_BLOCK\n        >>   30 LOAD_CONST               0 (None)\n             32 RETURN_VALUE\n"
     ]
    }
   ],
   "source": [
    "import dis\n",
    "def example(x):\n",
    "   for i in range(x):\n",
    "       print(2 * i)\n",
    "\n",
    "dis.dis(example)"
   ]
  },
  {
   "cell_type": "markdown",
   "metadata": {},
   "source": [
    "The dis module in the Python standard library is the disassembler that can show you Python bytecode."
   ]
  },
  {
   "cell_type": "markdown",
   "metadata": {},
   "source": [
    "An important aspect of Python’s compilation to bytecode is that it’s entirely implicit. You never invoke a compiler, you simply run a .py file. The Python implementation compiles the files as needed. This is different than Java, for example, where you have to run the Java compiler to turn Java source into compiled class files. For this reason, Java is often called a compiled language, while Python is called an interpreted language. But both compile to bytecode, and then both execute the bytecode with a software implementation of a virtual machine."
   ]
  },
  {
   "cell_type": "markdown",
   "metadata": {},
   "source": [
    "Another important Python feature is its interactive prompt. You can type Python statements and have them immediately executed. This interactivity is usually missing in “compiled” languages, but even at the Python interactive prompt, your Python is compiled to bytecode, and then the bytecode is executed. This immediate execution, and Python’s lack of an explicit compile step, are why people call the Python executable “the Python interpreter."
   ]
  },
  {
   "cell_type": "markdown",
   "metadata": {},
   "source": [
    "Finally, how your program gets executed isn’t a characteristic of the language at all: it’s about the language implementation. I’ve been talking here about Python, but this has really been a description of CPython, the usual implementation of Python, so-named because it is written in C. PyPy is another implementation, using a JIT compiler to run code much faster than CPython can."
   ]
  },
  {
   "cell_type": "markdown",
   "metadata": {},
   "source": [
    "## How to Check my python implementation "
   ]
  },
  {
   "cell_type": "code",
   "execution_count": 2,
   "metadata": {},
   "outputs": [
    {
     "data": {
      "text/plain": [
       "'CPython'"
      ]
     },
     "execution_count": 2,
     "metadata": {},
     "output_type": "execute_result"
    }
   ],
   "source": [
    "import platform\n",
    "platform.python_implementation()"
   ]
  },
  {
   "cell_type": "code",
   "execution_count": null,
   "metadata": {},
   "outputs": [],
   "source": []
  }
 ],
 "metadata": {
  "kernelspec": {
   "display_name": "Python 2",
   "language": "python",
   "name": "python2"
  },
  "language_info": {
   "codemirror_mode": {
    "name": "ipython",
    "version": 2
   },
   "file_extension": ".py",
   "mimetype": "text/x-python",
   "name": "python",
   "nbconvert_exporter": "python",
   "pygments_lexer": "ipython2",
   "version": "2.7.6"
  }
 },
 "nbformat": 4,
 "nbformat_minor": 0
}
